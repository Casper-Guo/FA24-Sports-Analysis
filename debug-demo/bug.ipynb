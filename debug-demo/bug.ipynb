{
  "cells": [
    {
      "cell_type": "code",
      "execution_count": null,
      "metadata": {},
      "outputs": [],
      "source": [
        "!python3 -m pip install --upgrade fastf1 matplotlib"
      ]
    },
    {
      "cell_type": "code",
      "execution_count": 2,
      "metadata": {},
      "outputs": [],
      "source": [
        "import fastf1 as f\n",
        "import pandas as pd\n",
        "from matplotlib import pyplot as plt"
      ]
    },
    {
      "cell_type": "markdown",
      "metadata": {},
      "source": [
        "# Load Data\n",
        "\n",
        "This section is not bugged"
      ]
    },
    {
      "cell_type": "code",
      "execution_count": null,
      "metadata": {},
      "outputs": [],
      "source": [
        "session = f.get_session(2024, \"Monza\", \"R\")\n",
        "session.load(telemetry=False)\n",
        "df_laps = session.laps\n",
        "df_lec = df_laps.pick_drivers(\"LEC\")\n",
        "df_lec.columns"
      ]
    },
    {
      "cell_type": "markdown",
      "metadata": {},
      "source": [
        "# Bugged Section\n",
        "\n",
        "In this section, we try to make a scatter plot of the lap times using the dataframe `df_lec`"
      ]
    },
    {
      "cell_type": "code",
      "execution_count": null,
      "metadata": {},
      "outputs": [],
      "source": [
        "fig = plt.figure()\n",
        "plt.scatter(df_lec[\"LapNumber\"], df_lec[\"LapTime\"])\n",
        "plt.xlabel(\"Lap Number\")\n",
        "plt.ylabel(\"Lap Time (s)\")\n",
        "plt.title(\"Leclerc Lap Times\")\n",
        "plt.show()"
      ]
    }
  ],
  "metadata": {
    "kernelspec": {
      "display_name": "Python 3",
      "language": "python",
      "name": "python3"
    },
    "language_info": {
      "codemirror_mode": {
        "name": "ipython",
        "version": 3
      },
      "file_extension": ".py",
      "mimetype": "text/x-python",
      "name": "python",
      "nbconvert_exporter": "python",
      "pygments_lexer": "ipython3",
      "version": "3.12.3"
    }
  },
  "nbformat": 4,
  "nbformat_minor": 2
}
